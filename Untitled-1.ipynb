{
 "cells": [
  {
   "cell_type": "code",
   "execution_count": null,
   "id": "cb52d8b2",
   "metadata": {},
   "outputs": [],
   "source": [
    "c:\\Users\\so_ho\\Desktop\\00_PythonWIP\\Smart_Recon\\financial_reconciliation_workflow.ipynb"
   ]
  }
 ],
 "metadata": {
  "language_info": {
   "name": "python"
  }
 },
 "nbformat": 4,
 "nbformat_minor": 5
}
